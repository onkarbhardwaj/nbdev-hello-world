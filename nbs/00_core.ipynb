{
 "cells": [
  {
   "cell_type": "markdown",
   "metadata": {},
   "source": [
    "# core\n",
    "\n",
    "> Fill in a module description here"
   ]
  },
  {
   "cell_type": "code",
   "execution_count": null,
   "metadata": {},
   "outputs": [],
   "source": [
    "%reload_ext autoreload\n",
    "%autoreload 2"
   ]
  },
  {
   "cell_type": "code",
   "execution_count": null,
   "metadata": {},
   "outputs": [],
   "source": [
    "#| default_exp core"
   ]
  },
  {
   "cell_type": "code",
   "execution_count": null,
   "metadata": {},
   "outputs": [],
   "source": [
    "#| hide\n",
    "from nbdev.showdoc import *"
   ]
  },
  {
   "cell_type": "code",
   "execution_count": null,
   "metadata": {},
   "outputs": [],
   "source": [
    "#| export\n",
    "def foo(): pass"
   ]
  },
  {
   "cell_type": "markdown",
   "metadata": {},
   "source": [
    "## These are related symbols"
   ]
  },
  {
   "cell_type": "code",
   "execution_count": null,
   "metadata": {},
   "outputs": [],
   "source": [
    "#| export\n",
    "class FooBar:\n",
    "\n",
    "    def __init__(\n",
    "        self, \n",
    "        name: str  # name of this instance\n",
    "        ):\n",
    "        \"\"\"Initialize FooBar instance with a name\"\"\"\n",
    "        self.name = name\n",
    "\n",
    "    def reveal(self):\n",
    "        \"\"\"Say who you are!\"\"\"\n",
    "        print(f\"My name is {self.name}\")\n",
    "\n",
    "    def multiply(\n",
    "        self,\n",
    "        times=1 # Number of copies to add\n",
    "    ):\n",
    "        \"\"\"Add additional copies\"\"\"\n",
    "        self.name += self.name * times"
   ]
  },
  {
   "cell_type": "code",
   "execution_count": null,
   "metadata": {},
   "outputs": [
    {
     "data": {
      "text/markdown": [
       "---\n",
       "\n",
       "[source](https://github.com/onkarbhardwaj/nbdev-hello-world/blob/main/nbdev_hello_world/core.py#L19){target=\"_blank\" style=\"float:right; font-size:smaller\"}\n",
       "\n",
       "### FooBar.reveal\n",
       "\n",
       ">      FooBar.reveal ()\n",
       "\n",
       "*Say who you are!*"
      ],
      "text/plain": [
       "---\n",
       "\n",
       "[source](https://github.com/onkarbhardwaj/nbdev-hello-world/blob/main/nbdev_hello_world/core.py#L19){target=\"_blank\" style=\"float:right; font-size:smaller\"}\n",
       "\n",
       "### FooBar.reveal\n",
       "\n",
       ">      FooBar.reveal ()\n",
       "\n",
       "*Say who you are!*"
      ]
     },
     "execution_count": null,
     "metadata": {},
     "output_type": "execute_result"
    }
   ],
   "source": [
    "show_doc(FooBar.reveal)"
   ]
  },
  {
   "cell_type": "code",
   "execution_count": null,
   "metadata": {},
   "outputs": [
    {
     "data": {
      "text/markdown": [
       "---\n",
       "\n",
       "[source](https://github.com/onkarbhardwaj/nbdev-hello-world/blob/main/nbdev_hello_world/core.py#L23){target=\"_blank\" style=\"float:right; font-size:smaller\"}\n",
       "\n",
       "### FooBar.multiply\n",
       "\n",
       ">      FooBar.multiply (times=1)\n",
       "\n",
       "*Add additional copies*\n",
       "\n",
       "|    | **Type** | **Default** | **Details** |\n",
       "| -- | -------- | ----------- | ----------- |\n",
       "| times | int | 1 | Number of copies to add |"
      ],
      "text/plain": [
       "---\n",
       "\n",
       "[source](https://github.com/onkarbhardwaj/nbdev-hello-world/blob/main/nbdev_hello_world/core.py#L23){target=\"_blank\" style=\"float:right; font-size:smaller\"}\n",
       "\n",
       "### FooBar.multiply\n",
       "\n",
       ">      FooBar.multiply (times=1)\n",
       "\n",
       "*Add additional copies*\n",
       "\n",
       "|    | **Type** | **Default** | **Details** |\n",
       "| -- | -------- | ----------- | ----------- |\n",
       "| times | int | 1 | Number of copies to add |"
      ]
     },
     "execution_count": null,
     "metadata": {},
     "output_type": "execute_result"
    }
   ],
   "source": [
    "show_doc(FooBar.multiply)"
   ]
  },
  {
   "cell_type": "code",
   "execution_count": null,
   "metadata": {},
   "outputs": [],
   "source": [
    "#| export\n",
    "def bar(): pass"
   ]
  },
  {
   "cell_type": "code",
   "execution_count": null,
   "metadata": {},
   "outputs": [],
   "source": [
    "#| hide\n",
    "import nbdev; nbdev.nbdev_export()"
   ]
  },
  {
   "cell_type": "code",
   "execution_count": null,
   "metadata": {},
   "outputs": [],
   "source": []
  },
  {
   "cell_type": "code",
   "execution_count": null,
   "metadata": {},
   "outputs": [],
   "source": []
  }
 ],
 "metadata": {
  "kernelspec": {
   "display_name": "python3",
   "language": "python",
   "name": "python3"
  }
 },
 "nbformat": 4,
 "nbformat_minor": 4
}
